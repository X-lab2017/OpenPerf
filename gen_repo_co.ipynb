{
 "cells": [
  {
   "cell_type": "code",
   "execution_count": 1,
   "metadata": {},
   "outputs": [],
   "source": [
    "import pandas as pd\n",
    "from copy import deepcopy\n",
    "import networkx as nx\n",
    "import matplotlib\n",
    "matplotlib.use('Agg')\n",
    "import matplotlib.pyplot as plt\n",
    "\n",
    "repo_contr_df = pd.read_csv('./contributors_of_repo.csv')"
   ]
  },
  {
   "cell_type": "code",
   "execution_count": 2,
   "metadata": {},
   "outputs": [],
   "source": [
    "def str2lst(s):\n",
    "    str_list = s.strip('[]').split(',')\n",
    "    return [item.strip(\"' \") for item in str_list]\n",
    "\n",
    "def filter_bot(lst):\n",
    "    return [x for x in lst if not x.endswith('[bot]')]"
   ]
  },
  {
   "cell_type": "code",
   "execution_count": 3,
   "metadata": {},
   "outputs": [],
   "source": [
    "# 筛除bot账户\n",
    "repo_contr_df_nobot = deepcopy(repo_contr_df)\n",
    "repo_contr_df_nobot['developers'] = repo_contr_df.apply(lambda row: filter_bot(str2lst(row['developers'])),\n",
    "                                                        axis=1)"
   ]
  },
  {
   "cell_type": "code",
   "execution_count": 4,
   "metadata": {},
   "outputs": [],
   "source": [
    "G = nx.Graph()\n",
    "\n",
    "for index, row in repo_contr_df_nobot.iterrows():\n",
    "    repo1 = row['repo_name']\n",
    "    developers1 = set(row['developers'])\n",
    "    for other_index, other_row in repo_contr_df_nobot.iterrows():\n",
    "        if other_index != index:\n",
    "            repo2 = other_row['repo_name']\n",
    "            developers2 = set(other_row['developers'])\n",
    "            # 交集不为空表示存在共同贡献者\n",
    "            # if len(developers1 & developers2) > 0:\n",
    "            if any(element in developers1 for element in developers2):\n",
    "                G.add_edge(repo1, repo2)\n",
    "            else:\n",
    "                continue\n",
    "        else:\n",
    "            continue"
   ]
  },
  {
   "cell_type": "code",
   "execution_count": null,
   "metadata": {},
   "outputs": [],
   "source": [
    "nx.draw(G, node_color='lightblue', edge_color='gray')\n",
    "plt.savefig('./repo_co.png')"
   ]
  }
 ],
 "metadata": {
  "kernelspec": {
   "display_name": "Python 3",
   "language": "python",
   "name": "python3"
  },
  "language_info": {
   "codemirror_mode": {
    "name": "ipython",
    "version": 3
   },
   "file_extension": ".py",
   "mimetype": "text/x-python",
   "name": "python",
   "nbconvert_exporter": "python",
   "pygments_lexer": "ipython3",
   "version": "3.10.14"
  }
 },
 "nbformat": 4,
 "nbformat_minor": 2
}
