{
 "cells": [
  {
   "cell_type": "code",
   "execution_count": null,
   "metadata": {},
   "outputs": [],
   "source": [
    "import networkx as nx\n",
    "import json\n",
    "import matplotlib\n",
    "matplotlib.use('Agg')\n",
    "import matplotlib.pyplot as plt"
   ]
  },
  {
   "cell_type": "code",
   "execution_count": null,
   "metadata": {},
   "outputs": [],
   "source": [
    "with open('./repo_graph.json', 'r') as file:\n",
    "    data = json.load(file)\n",
    "\n",
    "G = nx.node_link_graph(data)\n",
    "print(\"Number of nodes:\", G.number_of_nodes())\n",
    "print(\"Number of edges:\", G.number_of_edges())"
   ]
  },
  {
   "cell_type": "code",
   "execution_count": null,
   "metadata": {},
   "outputs": [],
   "source": [
    "# 计算度中心性\n",
    "degree_centrality = nx.degree_centrality(G)\n",
    "# 找出度中心性最高的前N个节点\n",
    "top_n = 10\n",
    "top_nodes = sorted(degree_centrality.items(), key=lambda item: item[1], reverse=True)[:top_n]\n",
    "print(\"Top {} nodes by degree centrality:\".format(top_n))\n",
    "for node, centrality in top_nodes:\n",
    "    print(f\"Node: {node}, Degree Centrality: {centrality}\")\n",
    "\n",
    "# 聚类系数\n",
    "clustering_coefficient = nx.clustering(G)\n",
    "average_clustering_coefficient = nx.average_clustering(G)\n",
    "print(\"Average Clustering Coefficient:\", average_clustering_coefficient)\n",
    "\n",
    "# # 计算平均路径长度\n",
    "# if nx.is_connected(G):\n",
    "#     average_path_length = nx.average_shortest_path_length(G)\n",
    "#     print(\"Average Path Length:\", average_path_length)\n",
    "# else:\n",
    "#     print(\"The graph is not connected. Cannot compute average path length.\")\n",
    "#\n",
    "# # 计算直径\n",
    "# if average_path_length is not None:\n",
    "#     diameter = nx.diameter(G)\n",
    "#     print(\"Diameter:\", diameter)\n",
    "# else:\n",
    "#     print(\"Cannot compute diameter because the graph is not connected.\")"
   ]
  },
  {
   "cell_type": "code",
   "execution_count": null,
   "metadata": {},
   "outputs": [],
   "source": [
    "# 布局图\n",
    "pos = nx.spring_layout(G)\n",
    "\n",
    "# 使用matplotlib绘制图\n",
    "plt.figure(figsize=(12, 12))\n",
    "nx.draw_networkx_nodes(G, pos, node_color='lightblue', edgecolors='k')\n",
    "nx.draw_networkx_edges(G, pos, width=0.5, alpha=0.5, arrows=False)\n",
    "nx.draw_networkx_labels(G, pos, font_size=8, font_family='sans-serif')\n",
    "\n",
    "# 突出显示度中心性最高的节点\n",
    "for node, centrality in top_nodes:\n",
    "    nx.draw_networkx_nodes(G, pos, node, node_color='red', node_size=500)\n",
    "\n",
    "# 显示图\n",
    "plt.title('Repository Collaboration Network')\n",
    "plt.axis('off')  # 关闭坐标轴\n",
    "plt.savefig('./repo_graph.png')"
   ]
  }
 ],
 "metadata": {
  "language_info": {
   "name": "python"
  }
 },
 "nbformat": 4,
 "nbformat_minor": 2
}
