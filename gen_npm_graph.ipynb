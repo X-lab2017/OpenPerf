{
 "cells": [
  {
   "cell_type": "code",
   "execution_count": null,
   "metadata": {},
   "outputs": [],
   "source": [
    "import pandas as pd\n",
    "import numpy as np\n",
    "from clickhouse_driver import Client\n",
    "import networkx as nx\n",
    "from concurrent.futures import ProcessPoolExecutor\n",
    "from networkx.readwrite import json_graph\n",
    "import json\n",
    "import matplotlib\n",
    "matplotlib.use('Agg')\n",
    "import matplotlib.pyplot as plt\n",
    "\n",
    "# # 读取数据\n",
    "# npm_packages_df = pd.read_csv('/OpenSource/npm_data/2024-05-13-16-54-33_EXPORT_CSV_13529018_459_0.csv')\n",
    "# npm_dependencies_df = pd.read_csv('/OpenSource/npm_data/2024-05-13-17-23-22_EXPORT_CSV_13529969_552_0.csv')\n",
    "# print(npm_packages_df.shape)\n",
    "# print(npm_dependencies_df.shape)"
   ]
  },
  {
   "cell_type": "code",
   "execution_count": null,
   "metadata": {},
   "outputs": [],
   "source": [
    "# 从clickhouse读取数据\n",
    "client = Client(host='cc-uf6764sn662413tc9.public.clickhouse.ads.aliyuncs.com',\n",
    "                user='liangchen',\n",
    "                password='Liangchen123',\n",
    "                database='supply_chain'\n",
    "                )\n",
    "tables = client.execute('SHOW TABLES')\n",
    "\n",
    "npm_record_query = 'SELECT * FROM npm_records'\n",
    "npm_record_result = client.execute(npm_record_query)\n",
    "npm_dependencies_query = 'SELECT * FROM npm_dependencies LIMIT'\n",
    "npm_dependencies_result = client.execute(npm_dependencies_query)\n",
    "\n",
    "print(\"Get data successfully!\")\n",
    "\n",
    "npm_packages_df = pd.DataFrame(npm_record_result, columns=['package_id', 'name', 'version', 'description', 'repository_type', 'repository_url', 'license', 'homepage', 'time'])\n",
    "npm_dependencies_df = pd.DataFrame(npm_dependencies_result, columns=['package_id', 'dependency_name', 'dependency_verison', 'type'])"
   ]
  },
  {
   "cell_type": "code",
   "execution_count": null,
   "metadata": {},
   "outputs": [],
   "source": [
    "# 保留共同package_id行\n",
    "common_package_ids = pd.merge(npm_packages_df[['package_id']], npm_dependencies_df[['package_id']], on='package_id', how='inner')['package_id']\n",
    "npm_packages_df = npm_packages_df[npm_packages_df['package_id'].isin(common_package_ids)]\n",
    "npm_dependencies_df = npm_dependencies_df[npm_dependencies_df['package_id'].isin(common_package_ids)]\n",
    "\n",
    "print(\"save into dataframe\")\n",
    "print(len(common_package_ids))\n",
    "print(len(npm_packages_df))\n",
    "print(len(npm_dependencies_df))"
   ]
  },
  {
   "cell_type": "code",
   "execution_count": null,
   "metadata": {},
   "outputs": [],
   "source": [
    "# 构建一个包id到名称的映射字典\n",
    "package_id_to_name = pd.Series(npm_packages_df.name.values, index=npm_packages_df.package_id).to_dict()"
   ]
  },
  {
   "cell_type": "code",
   "execution_count": null,
   "metadata": {},
   "outputs": [],
   "source": [
    "def build_graph_chunk(df_chunk):\n",
    "    G_chunk = nx.DiGraph()\n",
    "    for index, row in df_chunk.iterrows():\n",
    "        package_id = row['package_id']\n",
    "        dependency_name = row['dependency_name']\n",
    "        if package_id in package_id_to_name.keys():\n",
    "            package_name = package_id_to_name[package_id]\n",
    "            if dependency_name in package_id_to_name.values():\n",
    "                G_chunk.add_edge(package_name, dependency_name)\n",
    "    return G_chunk"
   ]
  },
  {
   "cell_type": "code",
   "execution_count": null,
   "metadata": {},
   "outputs": [],
   "source": [
    "def merge_graphs(graphs):\n",
    "    merged_graph = nx.DiGraph()\n",
    "    for G in graphs:\n",
    "        merged_graph = nx.compose(merged_graph, G)\n",
    "    return merged_graph"
   ]
  },
  {
   "cell_type": "code",
   "execution_count": null,
   "metadata": {},
   "outputs": [],
   "source": [
    "def parallel_build_graph(df, package_id_to_name, num_workers=10):\n",
    "    len_df = len(df)\n",
    "    chunk_size = len_df // num_workers\n",
    "    graphs = []\n",
    "    with ProcessPoolExecutor(max_workers=num_workers) as executor:\n",
    "        futures = []\n",
    "        for i in range(0, len_df, chunk_size):\n",
    "            df_chunk = df.iloc[i:i + chunk_size]\n",
    "            futures.append(executor.submit(build_graph_chunk, df_chunk))\n",
    "        for future in futures:\n",
    "            G_chunk = future.result()\n",
    "            graphs.append(G_chunk)\n",
    "    G = merge_graphs(graphs)\n",
    "    return G"
   ]
  },
  {
   "cell_type": "code",
   "execution_count": null,
   "metadata": {},
   "outputs": [],
   "source": [
    "G = parallel_build_graph(npm_dependencies_df, package_id_to_name)\n",
    "\n",
    "print(\"Number of nodes:\", G.number_of_nodes())\n",
    "print(\"Number of edges:\", G.number_of_edges())"
   ]
  },
  {
   "cell_type": "code",
   "execution_count": null,
   "metadata": {},
   "outputs": [],
   "source": [
    "json_data = json_graph.node_link_data(G)\n",
    "with open('./npm_graph.json', 'w') as file:\n",
    "    json.dump(json_data, file)\n",
    "\n",
    "pos = nx.spring_layout(G)"
   ]
  },
  {
   "cell_type": "code",
   "execution_count": null,
   "metadata": {},
   "outputs": [],
   "source": [
    "# 使用matplotlib绘制图\n",
    "plt.figure(figsize=(12, 12))\n",
    "nx.draw_networkx_nodes(G, pos, node_color='lightblue', edgecolors='k')\n",
    "nx.draw_networkx_edges(G, pos, width=0.5, alpha=0.5, arrows=False)\n",
    "nx.draw_networkx_labels(G, pos, font_size=8, font_family='sans-serif')\n",
    "\n",
    "# 显示图\n",
    "plt.title('Npm Dependency Network')\n",
    "plt.axis('off')  # 关闭坐标轴\n",
    "plt.savefig('./npm_graph.png')"
   ]
  },
  {
   "cell_type": "code",
   "execution_count": null,
   "metadata": {},
   "outputs": [],
   "source": [
    "# # 创建一个有向图\n",
    "# G = nx.DiGraph()\n",
    "#\n",
    "# for package_id, package_name in package_id_to_name.items():\n",
    "#     G.add_node(package_name)\n",
    "#\n",
    "# num_nodes = G.number_of_nodes()\n",
    "# print(\"Number of nodes:\", num_nodes)\n",
    "#\n",
    "# # 添加边（依赖关系）\n",
    "# for index, row in npm_dependencies_df.iterrows():\n",
    "#     package_id = row['package_id']\n",
    "#     dependency_name = row['dependency_name']\n",
    "#\n",
    "#     if package_id in package_id_to_name.keys():\n",
    "#         package_name = package_id_to_name[package_id]\n",
    "#         if dependency_name in package_id_to_name.values():\n",
    "#             G.add_edge(package_name, dependency_name)"
   ]
  }
 ],
 "metadata": {
  "language_info": {
   "name": "python"
  }
 },
 "nbformat": 4,
 "nbformat_minor": 2
}
